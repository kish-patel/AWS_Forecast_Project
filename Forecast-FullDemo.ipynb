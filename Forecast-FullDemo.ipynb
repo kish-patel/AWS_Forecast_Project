{
 "cells": [
  {
   "cell_type": "markdown",
   "metadata": {},
   "source": [
    "# AWS Forecast Walk-Through\n",
    "\n",
    "## Background\n",
    "\n",
    "PJM Interconnection LLC (PJM) is a regional transmission organization (RTO) in the United States that coordinates the movement of wholesale electricity in all or parts of Delaware, Illinois, Indiana, Kentucky, Maryland, Michigan, New Jersey, North Carolina, Ohio, Pennsylvania, Tennessee, Virginia, West Virginia, and the District of Columbia. \n",
    "\n",
    "Accurately forecasting load demand is important to PJM's operation because allows them to properly optimize their network, price services, and plan resources. In this notebook we will walk through the steps of building a prototype AWS application that generates time-series predictions and automatically sends an email of the evaluated forecast to specific users. \n",
    "\n",
    "### Set-Up\n",
    "\n",
    "Before using Amazon Forecast, we need to complete the following steps:\n",
    "1. Sign Up for AWS\n",
    "2. Set Up the AWS CLI\n",
    "3. Set Up Permissions for Amazon Forecast\n",
    "4. Build Environment\n",
    "    - Deploy a CloudFormation template that will create an S3 bucket for data storage\n",
    "    - Create SageMaker Notebook Instance where the exercises are executed\n",
    "    - Set IAM policies for the Notebook Instance\n",
    " \n",
    "Once that is complete we can begin developing in Python:"
   ]
  },
  {
   "cell_type": "code",
   "execution_count": 1,
   "metadata": {},
   "outputs": [],
   "source": [
    "import json\n",
    "import time\n",
    "import dateutil.parser\n",
    "import sys\n",
    "import os\n",
    "\n",
    "import pandas as pd\n",
    "import numpy as np\n",
    "import matplotlib.pyplot as plt\n",
    "import seaborn as sns; sns.set()\n",
    "import boto3"
   ]
  },
  {
   "cell_type": "markdown",
   "metadata": {},
   "source": [
    "Create a variable for the S3 bucket name you created and the region your service is using. I read in my Access Key and Secret Key from a text file, it best practice not to hard-code this information."
   ]
  },
  {
   "cell_type": "code",
   "execution_count": 2,
   "metadata": {},
   "outputs": [],
   "source": [
    "bucket_name = 'energyforecast'\n",
    "region = 'us-east-2'\n",
    "\n",
    "with open('AK.txt', 'r') as f:\n",
    "    AKEYS = [line.rstrip() for line in f]\n",
    "ACCESS_KEY = AKEYS[0]\n",
    "SECRET_KEY = AKEYS[1]"
   ]
  },
  {
   "cell_type": "markdown",
   "metadata": {},
   "source": [
    "Initialize a session and ensure that your account can communicate with Amazon Forecast"
   ]
  },
  {
   "cell_type": "code",
   "execution_count": 3,
   "metadata": {},
   "outputs": [],
   "source": [
    "session = boto3.Session(region_name=region, aws_access_key_id = ACCESS_KEY, aws_secret_access_key = SECRET_KEY) \n",
    "forecast = session.client(service_name='forecast') \n",
    "forecastquery = session.client(service_name='forecastquery')"
   ]
  },
  {
   "cell_type": "code",
   "execution_count": 4,
   "metadata": {},
   "outputs": [],
   "source": [
    "# Create and define function to upload files to AWS - will be used later on\n",
    "def upload_to_aws(local_file, bucket, s3_file):\n",
    "    s3 = boto3.client('s3', aws_access_key_id=ACCESS_KEY,\n",
    "                      aws_secret_access_key=SECRET_KEY)\n",
    "    try:\n",
    "        s3.upload_file(local_file, bucket, s3_file)\n",
    "        print(\"Upload Successful\")\n",
    "        return True\n",
    "    except FileNotFoundError:\n",
    "        print(\"The file was not found\")\n",
    "        return False"
   ]
  },
  {
   "cell_type": "markdown",
   "metadata": {},
   "source": [
    "## Preparing the Data"
   ]
  },
  {
   "cell_type": "code",
   "execution_count": 5,
   "metadata": {},
   "outputs": [
    {
     "data": {
      "text/html": [
       "<div>\n",
       "<style scoped>\n",
       "    .dataframe tbody tr th:only-of-type {\n",
       "        vertical-align: middle;\n",
       "    }\n",
       "\n",
       "    .dataframe tbody tr th {\n",
       "        vertical-align: top;\n",
       "    }\n",
       "\n",
       "    .dataframe thead th {\n",
       "        text-align: right;\n",
       "    }\n",
       "</style>\n",
       "<table border=\"1\" class=\"dataframe\">\n",
       "  <thead>\n",
       "    <tr style=\"text-align: right;\">\n",
       "      <th></th>\n",
       "      <th>timestamp</th>\n",
       "      <th>usage</th>\n",
       "      <th>client_id</th>\n",
       "    </tr>\n",
       "  </thead>\n",
       "  <tbody>\n",
       "    <tr>\n",
       "      <th>0</th>\n",
       "      <td>2014-01-01 01:00:00</td>\n",
       "      <td>11562</td>\n",
       "      <td>COMED</td>\n",
       "    </tr>\n",
       "    <tr>\n",
       "      <th>1</th>\n",
       "      <td>2014-01-01 01:00:00</td>\n",
       "      <td>11481</td>\n",
       "      <td>DOM</td>\n",
       "    </tr>\n",
       "    <tr>\n",
       "      <th>2</th>\n",
       "      <td>2014-01-01 01:00:00</td>\n",
       "      <td>7340</td>\n",
       "      <td>FE</td>\n",
       "    </tr>\n",
       "  </tbody>\n",
       "</table>\n",
       "</div>"
      ],
      "text/plain": [
       "             timestamp  usage client_id\n",
       "0  2014-01-01 01:00:00  11562     COMED\n",
       "1  2014-01-01 01:00:00  11481       DOM\n",
       "2  2014-01-01 01:00:00   7340        FE"
      ]
     },
     "execution_count": 5,
     "metadata": {},
     "output_type": "execute_result"
    }
   ],
   "source": [
    "energy_df = pd.read_csv(\"pjm_hourly_est.csv\", dtype = object, header=0)\n",
    "energy_df.head(3)"
   ]
  },
  {
   "cell_type": "markdown",
   "metadata": {},
   "source": [
    "There are the 3 key pieces of information required to generate a forecast with Amazon Forecast: the timestamp, a value, and an item. More can be added but these 3 must always remain present.\n",
    "\n",
    "In our case the value is the energy usage and item is the client.  The data set is from January 1st, 2014 to August 2nd, 2018. We will train the model using all the data and make predictions for the next 48 hours."
   ]
  },
  {
   "cell_type": "code",
   "execution_count": 6,
   "metadata": {},
   "outputs": [],
   "source": [
    "# Select dates before 2018-08-01 to train the model\n",
    "train_data = energy_df[(energy_df['timestamp'] <= '2018-08-02')]\n",
    "\n",
    "# Export to data folder\n",
    "train_data.to_csv(\"data/energyforecast-train.csv\", header=False, index=False)"
   ]
  },
  {
   "cell_type": "markdown",
   "metadata": {},
   "source": [
    "Using the pre-defined function we created earlier, we upload the training data to our S3 bucket. We pass the argument for the local file name to be the same in the S3 bucket."
   ]
  },
  {
   "cell_type": "code",
   "execution_count": 7,
   "metadata": {},
   "outputs": [
    {
     "name": "stdout",
     "output_type": "stream",
     "text": [
      "Upload Successful\n"
     ]
    },
    {
     "data": {
      "text/plain": [
       "True"
      ]
     },
     "execution_count": 7,
     "metadata": {},
     "output_type": "execute_result"
    }
   ],
   "source": [
    "# Send and load data to S3 bucket\n",
    "file_name=\"data/energyforecast-train.csv\"\n",
    "\n",
    "upload_to_aws(file_name, bucket_name, file_name)"
   ]
  },
  {
   "cell_type": "markdown",
   "metadata": {},
   "source": [
    "#### Creating the Dataset Group and Dataset\n",
    "In Amazon Forecast , a dataset is a collection of file(s) which contain data that is relevant for a forecasting task. A dataset must conform to a schema provided by Amazon Forecast.\n",
    "\n",
    "For this example, we are using CUSTOM domain with 3 required attributes: timestamp, target_value and item_id."
   ]
  },
  {
   "cell_type": "code",
   "execution_count": 8,
   "metadata": {},
   "outputs": [],
   "source": [
    "# Convey how Amazon Forecast can understand your time-series information\n",
    "DATASET_FREQUENCY = \"H\" \n",
    "TIMESTAMP_FORMAT = \"yyyy-MM-dd hh:mm:ss\""
   ]
  },
  {
   "cell_type": "markdown",
   "metadata": {},
   "source": [
    " Configure variable names for the Project, Dataset Group, and Dataset."
   ]
  },
  {
   "cell_type": "code",
   "execution_count": 9,
   "metadata": {},
   "outputs": [],
   "source": [
    "project = 'energy_forecast'\n",
    "datasetName= project+'_ds'\n",
    "datasetGroupName= project +'_dsg'\n",
    "s3DataPath = \"s3://\"+bucket_name+\"/\"+file_name"
   ]
  },
  {
   "cell_type": "markdown",
   "metadata": {},
   "source": [
    "Create the dataset group using the CUSTOM domain"
   ]
  },
  {
   "cell_type": "code",
   "execution_count": 10,
   "metadata": {},
   "outputs": [
    {
     "data": {
      "text/plain": [
       "{'DatasetGroupName': 'energy_forecast_dsg',\n",
       " 'DatasetGroupArn': 'arn:aws:forecast:us-east-2:120526968543:dataset-group/energy_forecast_dsg',\n",
       " 'DatasetArns': [],\n",
       " 'Domain': 'CUSTOM',\n",
       " 'Status': 'ACTIVE',\n",
       " 'CreationTime': datetime.datetime(2020, 4, 16, 19, 31, 6, 5000, tzinfo=tzlocal()),\n",
       " 'LastModificationTime': datetime.datetime(2020, 4, 16, 19, 31, 6, 5000, tzinfo=tzlocal()),\n",
       " 'ResponseMetadata': {'RequestId': 'dca666fb-7ee8-4a64-9bf2-10786b1c0a7e',\n",
       "  'HTTPStatusCode': 200,\n",
       "  'HTTPHeaders': {'content-type': 'application/x-amz-json-1.1',\n",
       "   'date': 'Thu, 16 Apr 2020 23:31:05 GMT',\n",
       "   'x-amzn-requestid': 'dca666fb-7ee8-4a64-9bf2-10786b1c0a7e',\n",
       "   'content-length': '261',\n",
       "   'connection': 'keep-alive'},\n",
       "  'RetryAttempts': 0}}"
      ]
     },
     "execution_count": 10,
     "metadata": {},
     "output_type": "execute_result"
    }
   ],
   "source": [
    "create_dataset_group_response = forecast.create_dataset_group(DatasetGroupName=datasetGroupName, Domain=\"CUSTOM\")\n",
    "datasetGroupArn = create_dataset_group_response['DatasetGroupArn']\n",
    "\n",
    "forecast.describe_dataset_group(DatasetGroupArn=datasetGroupArn)"
   ]
  },
  {
   "cell_type": "markdown",
   "metadata": {},
   "source": [
    "Define the schema."
   ]
  },
  {
   "cell_type": "code",
   "execution_count": 11,
   "metadata": {},
   "outputs": [],
   "source": [
    "# Make sure the order of columns matches the raw data files.\n",
    "schema ={\n",
    "   \"Attributes\":[\n",
    "      {\n",
    "         \"AttributeName\":\"timestamp\",\n",
    "         \"AttributeType\":\"timestamp\"\n",
    "      },\n",
    "      {\n",
    "         \"AttributeName\":\"target_value\",\n",
    "         \"AttributeType\":\"float\"\n",
    "      },\n",
    "      {\n",
    "         \"AttributeName\":\"item_id\",\n",
    "         \"AttributeType\":\"string\"\n",
    "      }\n",
    "   ]\n",
    "}"
   ]
  },
  {
   "cell_type": "markdown",
   "metadata": {},
   "source": [
    "Create the dataset and define the appropriate parameters."
   ]
  },
  {
   "cell_type": "code",
   "execution_count": 12,
   "metadata": {},
   "outputs": [],
   "source": [
    "response=forecast.create_dataset(\n",
    "                    Domain=\"CUSTOM\",\n",
    "                    DatasetType='TARGET_TIME_SERIES',\n",
    "                    DatasetName=datasetName,\n",
    "                    DataFrequency=DATASET_FREQUENCY, \n",
    "                    Schema = schema)\n",
    "\n",
    "datasetArn = response['DatasetArn']"
   ]
  },
  {
   "cell_type": "markdown",
   "metadata": {},
   "source": [
    "Now we need to add the dataset to the dataset group."
   ]
  },
  {
   "cell_type": "code",
   "execution_count": 13,
   "metadata": {},
   "outputs": [
    {
     "data": {
      "text/plain": [
       "{'ResponseMetadata': {'RequestId': '93f09d70-6ac8-4ec0-b71a-b11dec82e49a',\n",
       "  'HTTPStatusCode': 200,\n",
       "  'HTTPHeaders': {'content-type': 'application/x-amz-json-1.1',\n",
       "   'date': 'Thu, 16 Apr 2020 23:31:05 GMT',\n",
       "   'x-amzn-requestid': '93f09d70-6ac8-4ec0-b71a-b11dec82e49a',\n",
       "   'content-length': '2',\n",
       "   'connection': 'keep-alive'},\n",
       "  'RetryAttempts': 0}}"
      ]
     },
     "execution_count": 13,
     "metadata": {},
     "output_type": "execute_result"
    }
   ],
   "source": [
    "forecast.update_dataset_group(DatasetGroupArn=datasetGroupArn, DatasetArns=[datasetArn])"
   ]
  },
  {
   "cell_type": "markdown",
   "metadata": {},
   "source": [
    "#### Create IAM Role for Forecast"
   ]
  },
  {
   "cell_type": "code",
   "execution_count": 14,
   "metadata": {},
   "outputs": [
    {
     "name": "stdout",
     "output_type": "stream",
     "text": [
      "arn:aws:iam::120526968543:role/ForecastRole\n"
     ]
    }
   ],
   "source": [
    "iam = boto3.client(\"iam\", aws_access_key_id = ACCESS_KEY, aws_secret_access_key = SECRET_KEY)\n",
    "\n",
    "role_name = \"ForecastRole\"\n",
    "assume_role_policy_document = {\n",
    "    \"Version\": \"2012-10-17\",\n",
    "    \"Statement\": [\n",
    "        {\n",
    "          \"Effect\": \"Allow\",\n",
    "          \"Principal\": {\n",
    "            \"Service\": \"forecast.amazonaws.com\"\n",
    "          },\n",
    "          \"Action\": \"sts:AssumeRole\"\n",
    "        }\n",
    "    ]\n",
    "}\n",
    "\n",
    "try:\n",
    "    create_role_response = iam.create_role(\n",
    "        RoleName = role_name,\n",
    "        AssumeRolePolicyDocument = json.dumps(assume_role_policy_document)\n",
    "    )\n",
    "    role_arn = create_role_response[\"Role\"][\"Arn\"]\n",
    "except iam.exceptions.EntityAlreadyExistsException:\n",
    "    print(\"The role \" + role_name + \" exists, ignore to create it\")\n",
    "    role_arn = boto3.resource('iam').Role(role_name).arn\n",
    "    \n",
    "# Attaching AmazonForecastFullAccess to access all actions for Amazon Forecast\n",
    "policy_arn = \"arn:aws:iam::aws:policy/AmazonForecastFullAccess\"\n",
    "iam.attach_role_policy(\n",
    "    RoleName = role_name,\n",
    "    PolicyArn = policy_arn\n",
    ")\n",
    "\n",
    "# Now add S3 support\n",
    "iam.attach_role_policy(\n",
    "    PolicyArn='arn:aws:iam::aws:policy/AmazonS3FullAccess',\n",
    "    RoleName=role_name\n",
    ")\n",
    "time.sleep(60) # wait for a minute to allow IAM role policy attachment to propagate\n",
    "\n",
    "print(role_arn)"
   ]
  },
  {
   "cell_type": "markdown",
   "metadata": {},
   "source": [
    "#### Data Import: From S3 to Amazon Forecast"
   ]
  },
  {
   "cell_type": "code",
   "execution_count": 15,
   "metadata": {},
   "outputs": [
    {
     "name": "stdout",
     "output_type": "stream",
     "text": [
      "arn:aws:forecast:us-east-2:120526968543:dataset-import-job/energy_forecast_ds/E_DSIMPORT_JOB_TARGET\n"
     ]
    }
   ],
   "source": [
    "datasetImportJobName = 'E_DSIMPORT_JOB_TARGET'\n",
    "ds_import_job_response=forecast.create_dataset_import_job(DatasetImportJobName=datasetImportJobName,\n",
    "                                                          DatasetArn=datasetArn,\n",
    "                                                          DataSource= {\n",
    "                                                              \"S3Config\" : {\n",
    "                                                                 \"Path\":s3DataPath,\n",
    "                                                                 \"RoleArn\": role_arn\n",
    "                                                              } \n",
    "                                                          },\n",
    "                                                          TimestampFormat=TIMESTAMP_FORMAT\n",
    "                                                         )\n",
    "ds_import_job_arn=ds_import_job_response['DatasetImportJobArn']\n",
    "print(ds_import_job_arn)"
   ]
  },
  {
   "cell_type": "markdown",
   "metadata": {},
   "source": [
    "The data import can take anywhere from 5 to 10 min depending on the size of the data so we will create a while loop to check on the status - once the job is complete the loop will break and let us know the data is active"
   ]
  },
  {
   "cell_type": "code",
   "execution_count": 16,
   "metadata": {},
   "outputs": [
    {
     "name": "stdout",
     "output_type": "stream",
     "text": [
      "ACTIVE\n"
     ]
    }
   ],
   "source": [
    "status = forecast.describe_dataset_import_job(DatasetImportJobArn=ds_import_job_arn)['Status']\n",
    "while True:\n",
    "    status = forecast.describe_dataset_import_job(DatasetImportJobArn=ds_import_job_arn)['Status']\n",
    "    if status in ('ACTIVE', 'CREATE_FAILED'): break\n",
    "    time.sleep(10)\n",
    "\n",
    "print(status)"
   ]
  },
  {
   "cell_type": "markdown",
   "metadata": {},
   "source": [
    "## Build and Evaluate the Model\n",
    "\n",
    "\n",
    "### Create Predictor\n",
    "First thing we need to do is set a few parameters. Forecast horizon is the number of number of time points to predicted in the future. For weekly data, a value of 12 means 12 weeks. Our example is hourly data and we want the forecast for the next two days so we set the horizon to 48.\n",
    "\n",
    "We will use the pre-built Deep AR+ model. The Amazon SageMaker DeepAR forecasting algorithm is a supervised learning algorithm for forecasting scalar (one-dimensional) time series using recurrent neural networks (RNN)."
   ]
  },
  {
   "cell_type": "code",
   "execution_count": 17,
   "metadata": {},
   "outputs": [],
   "source": [
    "predictorName= project+'_deeparp'\n",
    "forecastHorizon = 48\n",
    "algorithmArn = 'arn:aws:forecast:::algorithm/Deep_AR_Plus'"
   ]
  },
  {
   "cell_type": "markdown",
   "metadata": {},
   "source": [
    "Now we send the API call to create the predictor.  Depending on data size, model selection and hyper parameters, it can take 10 mins to more than one hour to be active, so we will create a while loop to check on the status and let us know when the process is complete."
   ]
  },
  {
   "cell_type": "code",
   "execution_count": 18,
   "metadata": {},
   "outputs": [
    {
     "name": "stdout",
     "output_type": "stream",
     "text": [
      "ACTIVE\n"
     ]
    }
   ],
   "source": [
    "create_predictor_response=forecast.create_predictor(PredictorName=predictorName, \n",
    "                                                  AlgorithmArn=algorithmArn,\n",
    "                                                  ForecastHorizon=forecastHorizon,\n",
    "                                                  PerformAutoML= False,\n",
    "                                                  PerformHPO=False,\n",
    "                                                  EvaluationParameters= {\"NumberOfBacktestWindows\": 1, \n",
    "                                                                         \"BackTestWindowOffset\": forecastHorizon}, \n",
    "                                                  InputDataConfig= {\"DatasetGroupArn\": datasetGroupArn},\n",
    "                                                  FeaturizationConfig= {\"ForecastFrequency\": \"H\", \n",
    "                                                                        \"Featurizations\": \n",
    "                                                                        [\n",
    "                                                                          {\"AttributeName\": \"target_value\", \n",
    "                                                                           \"FeaturizationPipeline\": \n",
    "                                                                            [\n",
    "                                                                              {\"FeaturizationMethodName\": \"filling\", \n",
    "                                                                               \"FeaturizationMethodParameters\": \n",
    "                                                                                {\"frontfill\": \"none\", \n",
    "                                                                                 \"middlefill\": \"zero\", \n",
    "                                                                                 \"backfill\": \"zero\"}\n",
    "                                                                              }\n",
    "                                                                            ]\n",
    "                                                                          }\n",
    "                                                                        ]\n",
    "                                                                       }\n",
    "                                                 )\n",
    "predictor_arn=create_predictor_response['PredictorArn']\n",
    "\n",
    "status = forecast.describe_predictor(PredictorArn=predictor_arn)['Status']\n",
    "while True:\n",
    "    status = forecast.describe_predictor(PredictorArn=predictor_arn)['Status']\n",
    "    if status in ('ACTIVE', 'CREATE_FAILED'): break\n",
    "    time.sleep(10)\n",
    "\n",
    "print(status)"
   ]
  },
  {
   "cell_type": "markdown",
   "metadata": {},
   "source": [
    "Evaluate the model's accuracy"
   ]
  },
  {
   "cell_type": "code",
   "execution_count": 19,
   "metadata": {},
   "outputs": [
    {
     "data": {
      "text/plain": [
       "{'PredictorEvaluationResults': [{'AlgorithmArn': 'arn:aws:forecast:::algorithm/Deep_AR_Plus',\n",
       "   'TestWindows': [{'EvaluationType': 'SUMMARY',\n",
       "     'Metrics': {'RMSE': 1172.9397066773354,\n",
       "      'WeightedQuantileLosses': [{'Quantile': 0.9,\n",
       "        'LossValue': 0.027967853610062154},\n",
       "       {'Quantile': 0.5, 'LossValue': 0.0925880627293065},\n",
       "       {'Quantile': 0.1, 'LossValue': 0.09051045400235201}]}},\n",
       "    {'TestWindowStart': datetime.datetime(2018, 7, 30, 20, 0, tzinfo=tzlocal()),\n",
       "     'TestWindowEnd': datetime.datetime(2018, 8, 1, 20, 0, tzinfo=tzlocal()),\n",
       "     'ItemCount': 3,\n",
       "     'EvaluationType': 'COMPUTED',\n",
       "     'Metrics': {'RMSE': 1172.9397066773354,\n",
       "      'WeightedQuantileLosses': [{'Quantile': 0.9,\n",
       "        'LossValue': 0.027967853610062154},\n",
       "       {'Quantile': 0.5, 'LossValue': 0.0925880627293065},\n",
       "       {'Quantile': 0.1, 'LossValue': 0.09051045400235201}]}}]}],\n",
       " 'ResponseMetadata': {'RequestId': 'fe23b698-135a-42fe-a0b0-709c961ea828',\n",
       "  'HTTPStatusCode': 200,\n",
       "  'HTTPHeaders': {'content-type': 'application/x-amz-json-1.1',\n",
       "   'date': 'Fri, 17 Apr 2020 00:25:26 GMT',\n",
       "   'x-amzn-requestid': 'fe23b698-135a-42fe-a0b0-709c961ea828',\n",
       "   'content-length': '663',\n",
       "   'connection': 'keep-alive'},\n",
       "  'RetryAttempts': 0}}"
      ]
     },
     "execution_count": 19,
     "metadata": {},
     "output_type": "execute_result"
    }
   ],
   "source": [
    "forecast.get_accuracy_metrics(PredictorArn=predictor_arn)"
   ]
  },
  {
   "cell_type": "markdown",
   "metadata": {},
   "source": [
    "### Create a Forecast"
   ]
  },
  {
   "cell_type": "code",
   "execution_count": 20,
   "metadata": {},
   "outputs": [],
   "source": [
    "forecastName= project+'_deeparp_algo_forecast'\n",
    "create_forecast_response=forecast.create_forecast(ForecastName=forecastName,\n",
    "                                                  PredictorArn=predictor_arn)\n",
    "forecast_arn = create_forecast_response['ForecastArn']"
   ]
  },
  {
   "cell_type": "markdown",
   "metadata": {},
   "source": [
    "Check the status of the forecast process- similar to the predictor - it can take 10 mins to more than one hour to be active."
   ]
  },
  {
   "cell_type": "code",
   "execution_count": 21,
   "metadata": {},
   "outputs": [
    {
     "name": "stdout",
     "output_type": "stream",
     "text": [
      "ACTIVE\n"
     ]
    }
   ],
   "source": [
    "status = forecast.describe_forecast(ForecastArn=forecast_arn)['Status']\n",
    "while True:\n",
    "    status = forecast.describe_forecast(ForecastArn=forecast_arn)['Status']\n",
    "    if status in ('ACTIVE', 'CREATE_FAILED'): break\n",
    "    time.sleep(10)\n",
    "\n",
    "print(status)"
   ]
  },
  {
   "cell_type": "markdown",
   "metadata": {},
   "source": [
    "## Evaluating the Forecast"
   ]
  },
  {
   "cell_type": "markdown",
   "metadata": {},
   "source": [
    "We use the Amazon QueryForecast to view the results of our forecast. Using the 'Filters' variable allows the capability to choose the specific client we want to analyze."
   ]
  },
  {
   "cell_type": "code",
   "execution_count": 22,
   "metadata": {},
   "outputs": [
    {
     "name": "stdout",
     "output_type": "stream",
     "text": [
      "arn:aws:forecast:us-east-2:120526968543:forecast/energy_forecast_deeparp_algo_forecast\n",
      "{'Forecast': {'Predictions': {'p10': [{'Timestamp': '2018-08-02T00:00:00', 'Value': 12508.5244140625}, {'Timestamp': '2018-08-02T01:00:00', 'Value': 11628.548828125}, {'Timestamp': '2018-08-02T02:00:00', 'Value': 10934.3720703125}, {'Timestamp': '2018-08-02T03:00:00', 'Value': 10405.2119140625}, {'Timestamp': '2018-08-02T04:00:00', 'Value': 10016.732421875}, {'Timestamp': '2018-08-02T05:00:00', 'Value': 9817.533203125}, {'Timestamp': '2018-08-02T06:00:00', 'Value': 9817.103515625}, {'Timestamp': '2018-08-02T07:00:00', 'Value': 10432.658203125}, {'Timestamp': '2018-08-02T08:00:00', 'Value': 11086.9609375}, {'Timestamp': '2018-08-02T09:00:00', 'Value': 12137.33203125}, {'Timestamp': '2018-08-02T10:00:00', 'Value': 12765.474609375}, {'Timestamp': '2018-08-02T11:00:00', 'Value': 13366.68359375}, {'Timestamp': '2018-08-02T12:00:00', 'Value': 14096.6982421875}, {'Timestamp': '2018-08-02T13:00:00', 'Value': 14485.9658203125}, {'Timestamp': '2018-08-02T14:00:00', 'Value': 14889.6025390625}, {'Timestamp': '2018-08-02T15:00:00', 'Value': 15023.6826171875}, {'Timestamp': '2018-08-02T16:00:00', 'Value': 14817.56640625}, {'Timestamp': '2018-08-02T17:00:00', 'Value': 14944.9150390625}, {'Timestamp': '2018-08-02T18:00:00', 'Value': 14836.38671875}, {'Timestamp': '2018-08-02T19:00:00', 'Value': 14593.3310546875}, {'Timestamp': '2018-08-02T20:00:00', 'Value': 14122.8447265625}, {'Timestamp': '2018-08-02T21:00:00', 'Value': 13750.03125}, {'Timestamp': '2018-08-02T22:00:00', 'Value': 13388.935546875}, {'Timestamp': '2018-08-02T23:00:00', 'Value': 13001.2333984375}, {'Timestamp': '2018-08-03T00:00:00', 'Value': 12189.09765625}, {'Timestamp': '2018-08-03T01:00:00', 'Value': 11324.392578125}, {'Timestamp': '2018-08-03T02:00:00', 'Value': 10459.2802734375}, {'Timestamp': '2018-08-03T03:00:00', 'Value': 10088.4248046875}, {'Timestamp': '2018-08-03T04:00:00', 'Value': 9793.9892578125}, {'Timestamp': '2018-08-03T05:00:00', 'Value': 9620.5693359375}, {'Timestamp': '2018-08-03T06:00:00', 'Value': 9572.5224609375}, {'Timestamp': '2018-08-03T07:00:00', 'Value': 10163.62109375}, {'Timestamp': '2018-08-03T08:00:00', 'Value': 11011.318359375}, {'Timestamp': '2018-08-03T09:00:00', 'Value': 12058.7998046875}, {'Timestamp': '2018-08-03T10:00:00', 'Value': 12881.982421875}, {'Timestamp': '2018-08-03T11:00:00', 'Value': 13425.38671875}, {'Timestamp': '2018-08-03T12:00:00', 'Value': 13779.6025390625}, {'Timestamp': '2018-08-03T13:00:00', 'Value': 14143.0283203125}, {'Timestamp': '2018-08-03T14:00:00', 'Value': 14459.4599609375}, {'Timestamp': '2018-08-03T15:00:00', 'Value': 14599.4658203125}, {'Timestamp': '2018-08-03T16:00:00', 'Value': 14520.2529296875}, {'Timestamp': '2018-08-03T17:00:00', 'Value': 14361.4072265625}, {'Timestamp': '2018-08-03T18:00:00', 'Value': 14360.484375}, {'Timestamp': '2018-08-03T19:00:00', 'Value': 14114.720703125}, {'Timestamp': '2018-08-03T20:00:00', 'Value': 13796.4287109375}, {'Timestamp': '2018-08-03T21:00:00', 'Value': 13277.29296875}, {'Timestamp': '2018-08-03T22:00:00', 'Value': 12956.3779296875}, {'Timestamp': '2018-08-03T23:00:00', 'Value': 12562.6904296875}], 'p50': [{'Timestamp': '2018-08-02T00:00:00', 'Value': 13005.8466796875}, {'Timestamp': '2018-08-02T01:00:00', 'Value': 12039.4091796875}, {'Timestamp': '2018-08-02T02:00:00', 'Value': 11305.5517578125}, {'Timestamp': '2018-08-02T03:00:00', 'Value': 10836.375}, {'Timestamp': '2018-08-02T04:00:00', 'Value': 10444.244140625}, {'Timestamp': '2018-08-02T05:00:00', 'Value': 10235.3134765625}, {'Timestamp': '2018-08-02T06:00:00', 'Value': 10408.099609375}, {'Timestamp': '2018-08-02T07:00:00', 'Value': 10888.4296875}, {'Timestamp': '2018-08-02T08:00:00', 'Value': 11744.0263671875}, {'Timestamp': '2018-08-02T09:00:00', 'Value': 12637.8955078125}, {'Timestamp': '2018-08-02T10:00:00', 'Value': 13440.5107421875}, {'Timestamp': '2018-08-02T11:00:00', 'Value': 14016.9921875}, {'Timestamp': '2018-08-02T12:00:00', 'Value': 14730.650390625}, {'Timestamp': '2018-08-02T13:00:00', 'Value': 15145.087890625}, {'Timestamp': '2018-08-02T14:00:00', 'Value': 15616.798828125}, {'Timestamp': '2018-08-02T15:00:00', 'Value': 15677.11328125}, {'Timestamp': '2018-08-02T16:00:00', 'Value': 15751.630859375}, {'Timestamp': '2018-08-02T17:00:00', 'Value': 15639.046875}, {'Timestamp': '2018-08-02T18:00:00', 'Value': 15500.234375}, {'Timestamp': '2018-08-02T19:00:00', 'Value': 15341.0859375}, {'Timestamp': '2018-08-02T20:00:00', 'Value': 14781.564453125}, {'Timestamp': '2018-08-02T21:00:00', 'Value': 14441.1044921875}, {'Timestamp': '2018-08-02T22:00:00', 'Value': 14291.3916015625}, {'Timestamp': '2018-08-02T23:00:00', 'Value': 13736.099609375}, {'Timestamp': '2018-08-03T00:00:00', 'Value': 13023.7939453125}, {'Timestamp': '2018-08-03T01:00:00', 'Value': 12116.4580078125}, {'Timestamp': '2018-08-03T02:00:00', 'Value': 11372.369140625}, {'Timestamp': '2018-08-03T03:00:00', 'Value': 10806.78125}, {'Timestamp': '2018-08-03T04:00:00', 'Value': 10566.7158203125}, {'Timestamp': '2018-08-03T05:00:00', 'Value': 10282.462890625}, {'Timestamp': '2018-08-03T06:00:00', 'Value': 10424.3505859375}, {'Timestamp': '2018-08-03T07:00:00', 'Value': 10976.984375}, {'Timestamp': '2018-08-03T08:00:00', 'Value': 11868.24609375}, {'Timestamp': '2018-08-03T09:00:00', 'Value': 12916.0341796875}, {'Timestamp': '2018-08-03T10:00:00', 'Value': 13784.8662109375}, {'Timestamp': '2018-08-03T11:00:00', 'Value': 14458.923828125}, {'Timestamp': '2018-08-03T12:00:00', 'Value': 14786.890625}, {'Timestamp': '2018-08-03T13:00:00', 'Value': 15188.3017578125}, {'Timestamp': '2018-08-03T14:00:00', 'Value': 15385.3876953125}, {'Timestamp': '2018-08-03T15:00:00', 'Value': 15602.146484375}, {'Timestamp': '2018-08-03T16:00:00', 'Value': 15374.8984375}, {'Timestamp': '2018-08-03T17:00:00', 'Value': 15396.34375}, {'Timestamp': '2018-08-03T18:00:00', 'Value': 15264.4912109375}, {'Timestamp': '2018-08-03T19:00:00', 'Value': 14952.24609375}, {'Timestamp': '2018-08-03T20:00:00', 'Value': 14517.1865234375}, {'Timestamp': '2018-08-03T21:00:00', 'Value': 13964.435546875}, {'Timestamp': '2018-08-03T22:00:00', 'Value': 13774.287109375}, {'Timestamp': '2018-08-03T23:00:00', 'Value': 13373.5}], 'p90': [{'Timestamp': '2018-08-02T00:00:00', 'Value': 13421.8857421875}, {'Timestamp': '2018-08-02T01:00:00', 'Value': 12468.66015625}, {'Timestamp': '2018-08-02T02:00:00', 'Value': 11808.5400390625}, {'Timestamp': '2018-08-02T03:00:00', 'Value': 11355.1298828125}, {'Timestamp': '2018-08-02T04:00:00', 'Value': 11007.181640625}, {'Timestamp': '2018-08-02T05:00:00', 'Value': 10829.697265625}, {'Timestamp': '2018-08-02T06:00:00', 'Value': 10942.603515625}, {'Timestamp': '2018-08-02T07:00:00', 'Value': 11414.5859375}, {'Timestamp': '2018-08-02T08:00:00', 'Value': 12336.0517578125}, {'Timestamp': '2018-08-02T09:00:00', 'Value': 13464.5166015625}, {'Timestamp': '2018-08-02T10:00:00', 'Value': 14170.857421875}, {'Timestamp': '2018-08-02T11:00:00', 'Value': 14766.453125}, {'Timestamp': '2018-08-02T12:00:00', 'Value': 15446.876953125}, {'Timestamp': '2018-08-02T13:00:00', 'Value': 16010.3095703125}, {'Timestamp': '2018-08-02T14:00:00', 'Value': 16182.59765625}, {'Timestamp': '2018-08-02T15:00:00', 'Value': 16554.796875}, {'Timestamp': '2018-08-02T16:00:00', 'Value': 16408.521484375}, {'Timestamp': '2018-08-02T17:00:00', 'Value': 16418.294921875}, {'Timestamp': '2018-08-02T18:00:00', 'Value': 16334.0078125}, {'Timestamp': '2018-08-02T19:00:00', 'Value': 16206.279296875}, {'Timestamp': '2018-08-02T20:00:00', 'Value': 15619.013671875}, {'Timestamp': '2018-08-02T21:00:00', 'Value': 15392.6796875}, {'Timestamp': '2018-08-02T22:00:00', 'Value': 15005.841796875}, {'Timestamp': '2018-08-02T23:00:00', 'Value': 14725.2626953125}, {'Timestamp': '2018-08-03T00:00:00', 'Value': 13919.306640625}, {'Timestamp': '2018-08-03T01:00:00', 'Value': 12882.498046875}, {'Timestamp': '2018-08-03T02:00:00', 'Value': 12171.4443359375}, {'Timestamp': '2018-08-03T03:00:00', 'Value': 11685.333984375}, {'Timestamp': '2018-08-03T04:00:00', 'Value': 11418.5966796875}, {'Timestamp': '2018-08-03T05:00:00', 'Value': 11133.1513671875}, {'Timestamp': '2018-08-03T06:00:00', 'Value': 11336.6640625}, {'Timestamp': '2018-08-03T07:00:00', 'Value': 11787.5}, {'Timestamp': '2018-08-03T08:00:00', 'Value': 12848.06640625}, {'Timestamp': '2018-08-03T09:00:00', 'Value': 14007.1357421875}, {'Timestamp': '2018-08-03T10:00:00', 'Value': 14780.2119140625}, {'Timestamp': '2018-08-03T11:00:00', 'Value': 15238.7529296875}, {'Timestamp': '2018-08-03T12:00:00', 'Value': 15782.150390625}, {'Timestamp': '2018-08-03T13:00:00', 'Value': 16198.3779296875}, {'Timestamp': '2018-08-03T14:00:00', 'Value': 16368.11328125}, {'Timestamp': '2018-08-03T15:00:00', 'Value': 16437.591796875}, {'Timestamp': '2018-08-03T16:00:00', 'Value': 16374.2744140625}, {'Timestamp': '2018-08-03T17:00:00', 'Value': 16298.412109375}, {'Timestamp': '2018-08-03T18:00:00', 'Value': 16172.7021484375}, {'Timestamp': '2018-08-03T19:00:00', 'Value': 16007.1298828125}, {'Timestamp': '2018-08-03T20:00:00', 'Value': 15165.62109375}, {'Timestamp': '2018-08-03T21:00:00', 'Value': 14768.83984375}, {'Timestamp': '2018-08-03T22:00:00', 'Value': 14578.453125}, {'Timestamp': '2018-08-03T23:00:00', 'Value': 14203.0205078125}]}}, 'ResponseMetadata': {'RequestId': 'b71d2a98-73b0-4ef1-a5d2-2aae42c06907', 'HTTPStatusCode': 200, 'HTTPHeaders': {'content-type': 'application/x-amz-json-1.1', 'date': 'Fri, 17 Apr 2020 01:03:23 GMT', 'x-amzn-requestid': 'b71d2a98-73b0-4ef1-a5d2-2aae42c06907', 'content-length': '8659', 'connection': 'keep-alive'}, 'RetryAttempts': 0}}\n"
     ]
    }
   ],
   "source": [
    "print(forecast_arn)\n",
    "forecastResponse = forecastquery.query_forecast(\n",
    "    ForecastArn=forecast_arn,\n",
    "    Filters={\"item_id\":\"COMED\"})\n",
    "\n",
    "print(forecastResponse)"
   ]
  },
  {
   "cell_type": "markdown",
   "metadata": {},
   "source": [
    "Create a loop to extract forecasts for each client/item and store in separate data frames with actuals."
   ]
  },
  {
   "cell_type": "code",
   "execution_count": 27,
   "metadata": {},
   "outputs": [],
   "source": [
    "results_dict = {}\n",
    "for client in energy_df['client_id'].unique():\n",
    "    forecastResponse = forecastquery.query_forecast(ForecastArn=forecast_arn, Filters={\"item_id\":str(client)})\n",
    "    timestamp = [forecastResponse['Forecast']['Predictions']['p10'][i]['Timestamp'] for i in range(forecastHorizon)]\n",
    "    prediction_p10 = np.array([forecastResponse['Forecast']['Predictions']['p10'][i]['Value'] for i in range(forecastHorizon)])\n",
    "    prediction_p50 = np.array([forecastResponse['Forecast']['Predictions']['p50'][i]['Value'] for i in range(forecastHorizon)])\n",
    "    prediction_p90 = np.array([forecastResponse['Forecast']['Predictions']['p90'][i]['Value'] for i in range(forecastHorizon)])\n",
    "    result = pd.DataFrame({'timestamp':timestamp, \n",
    "                           'p10':prediction_p10,\n",
    "                           'p50':prediction_p50,\n",
    "                           'p90':prediction_p90\n",
    "                          })\n",
    "    results_dict[str(client)] = result"
   ]
  },
  {
   "cell_type": "markdown",
   "metadata": {},
   "source": [
    "Plot and save the figures"
   ]
  },
  {
   "cell_type": "code",
   "execution_count": 28,
   "metadata": {},
   "outputs": [
    {
     "data": {
      "image/png": "[encoded data removed]",
      "text/plain": [
       "<Figure size 432x288 with 1 Axes>"
      ]
     },
     "metadata": {},
     "output_type": "display_data"
    },
    {
     "data": {
      "image/png": "[encoded data removed]",
      "text/plain": [
       "<Figure size 432x288 with 1 Axes>"
      ]
     },
     "metadata": {},
     "output_type": "display_data"
    },
    {
     "data": {
      "image/png": "[encoded data removed]",
      "text/plain": [
       "<Figure size 432x288 with 1 Axes>"
      ]
     },
     "metadata": {},
     "output_type": "display_data"
    }
   ],
   "source": [
    "figures = []\n",
    "for key, value in results_dict.items():\n",
    "    value.plot()\n",
    "    plt.xlabel('Hours')\n",
    "    plt.ylabel('Usage')\n",
    "    plt.title(\"Usage Forecast: \"+ str(key))\n",
    "    plt.savefig('plots/usage-forecast_'+key+'.jpeg')\n",
    "    "
   ]
  },
  {
   "cell_type": "markdown",
   "metadata": {},
   "source": [
    "## Email The Reports\n",
    "\n",
    "Import the libraries and authenticate account with AWS SES"
   ]
  },
  {
   "cell_type": "code",
   "execution_count": 29,
   "metadata": {},
   "outputs": [],
   "source": [
    "import smtplib  \n",
    "import email.utils\n",
    "from email.mime.multipart import MIMEMultipart\n",
    "from email.mime.text import MIMEText\n",
    "import os\n",
    "from email.mime.application import MIMEApplication\n",
    "from email.mime.image import MIMEImage\n",
    "\n",
    "# Read in SMTP ID and Password\n",
    "with open('SMTP.txt', 'r') as f:\n",
    "    SMTP = [line.rstrip() for line in f]\n",
    "SMTP_KEY = SMTP[0]\n",
    "SMTP_PASS = SMTP[1]\n",
    "\n",
    "# Replace sender@example.com with your \"From\" address. \n",
    "# This address must be verified.\n",
    "SENDER = 'sender@example.com'  \n",
    "SENDERNAME = 'Sender Name'\n",
    "\n",
    "# Replace recipient@example.com with a \"To\" address. If your account \n",
    "# is still in the sandbox, this address must be verified.\n",
    "RECIPIENT  = 'recipient@example.com'\n",
    "\n",
    "# Replace smtp_username with your Amazon SES SMTP user name.\n",
    "USERNAME_SMTP = SMTP_KEY\n",
    "\n",
    "# Replace smtp_password with your Amazon SES SMTP password.\n",
    "PASSWORD_SMTP = SMTP_PASS\n",
    "\n",
    "# (Optional) the name of a configuration set to use for this message.\n",
    "# If you comment out this line, you also need to remove or comment out\n",
    "# the \"X-SES-CONFIGURATION-SET:\" header below.\n",
    "#CONFIGURATION_SET = \"ConfigSet\"\n",
    "\n",
    "# If you're using Amazon SES in an AWS Region other than US West (Oregon), \n",
    "# replace email-smtp.us-west-2.amazonaws.com with the Amazon SES SMTP  \n",
    "# endpoint in the appropriate region.\n",
    "HOST = \"email-smtp.us-east-1.amazonaws.com\"\n",
    "PORT = 587\n",
    "\n",
    "# The subject line of the email.\n",
    "SUBJECT = 'Weekly Forecast Report'\n"
   ]
  },
  {
   "cell_type": "markdown",
   "metadata": {},
   "source": [
    "Create the body of the E-mail and attach the images of the graphs to the E-mail."
   ]
  },
  {
   "cell_type": "code",
   "execution_count": 30,
   "metadata": {},
   "outputs": [],
   "source": [
    "\n",
    "# The HTML body of the email.\n",
    "BODY_HTML = \"\"\"<html>\n",
    "<head></head>\n",
    "<body>\n",
    "  <h1>Here is your Report from Amazon Forecast</h1>\n",
    "  <p> See attached images </p>\n",
    "</body>\n",
    "</html>\n",
    "            \"\"\"\n",
    "\n",
    "# Create message container - the correct MIME type is multipart/alternative.\n",
    "msg = MIMEMultipart('mixed')\n",
    "msg['Subject'] = SUBJECT\n",
    "msg['From'] = email.utils.formataddr((SENDERNAME, SENDER))\n",
    "msg['To'] = RECIPIENT\n",
    "for client in energy_df['client_id'].unique():\n",
    "    ATTACHMENT = 'plots/usage-forecast_{0}.jpeg'.format(client)\n",
    "    att = MIMEApplication(open(ATTACHMENT, 'rb').read())\n",
    "    att.add_header('Content_disposition','attachment',filename=str(client)+\".jpeg\")\n",
    "    msg.attach(att)\n",
    "# Record the MIME types of both parts - text/plain and text/html.\n",
    "part1 = MIMEText(BODY_HTML, 'html')\n",
    "\n",
    "# Attach parts into message container.\n",
    "# According to RFC 2046, the last part of a multipart message, in this case\n",
    "# the HTML message, is best and preferred.\n",
    "msg.attach(part1)"
   ]
  },
  {
   "cell_type": "markdown",
   "metadata": {},
   "source": [
    "Send the E-mail"
   ]
  },
  {
   "cell_type": "code",
   "execution_count": 31,
   "metadata": {},
   "outputs": [
    {
     "name": "stdout",
     "output_type": "stream",
     "text": [
      "Email sent!\n"
     ]
    }
   ],
   "source": [
    "# Try to send the message.\n",
    "try:  \n",
    "    server = smtplib.SMTP(HOST, PORT)\n",
    "    server.ehlo()\n",
    "    server.starttls()\n",
    "    #stmplib docs recommend calling ehlo() before & after starttls()\n",
    "    server.ehlo()\n",
    "    server.login(USERNAME_SMTP, PASSWORD_SMTP)\n",
    "    server.sendmail(SENDER, RECIPIENT, msg.as_string())\n",
    "    server.close()\n",
    "# Display an error message if something goes wrong.\n",
    "except Exception as e:\n",
    "    print (\"Error: \", e)\n",
    "else:\n",
    "    print (\"Email sent!\")"
   ]
  },
  {
   "cell_type": "markdown",
   "metadata": {},
   "source": [
    "## Cleanup the Workspace"
   ]
  },
  {
   "cell_type": "code",
   "execution_count": 33,
   "metadata": {},
   "outputs": [],
   "source": [
    "# Delete the Foreacst:\n",
    "forecast.delete_forecast(ForecastArn=forecast_arn)\n",
    "time.sleep(120)\n",
    "# Delete the Predictor:\n",
    "forecast.delete_predictor(PredictorArn=predictor_arn)\n",
    "time.sleep(120)\n",
    "# Delete Import\n",
    "forecast.delete_dataset_import_job(DatasetImportJobArn=ds_import_job_arn)\n",
    "time.sleep(120)\n",
    "# Delete the Dataset:\n",
    "forecast.delete_dataset(DatasetArn=datasetArn)\n",
    "time.sleep(120)\n",
    "# Delete the DatasetGroup:\n",
    "forecast.delete_dataset_group(DatasetGroupArn=datasetGroupArn)\n",
    "time.sleep(120)\n",
    "# Delete your file in S3\n",
    "boto3.Session().resource('s3').Bucket(bucket_name).Object(file_name).delete()\n",
    "time.sleep(120)"
   ]
  },
  {
   "cell_type": "markdown",
   "metadata": {},
   "source": [
    "The very last step in the notebooks is to remove the policies that were attached to a role and then to delete it. No changes should need to be made here, just execute the cell."
   ]
  },
  {
   "cell_type": "code",
   "execution_count": 34,
   "metadata": {},
   "outputs": [
    {
     "data": {
      "text/plain": [
       "{'ResponseMetadata': {'RequestId': '1f9a29d8-13e7-4a95-a6c1-82ef29ac5a0c',\n",
       "  'HTTPStatusCode': 200,\n",
       "  'HTTPHeaders': {'x-amzn-requestid': '1f9a29d8-13e7-4a95-a6c1-82ef29ac5a0c',\n",
       "   'content-type': 'text/xml',\n",
       "   'content-length': '200',\n",
       "   'date': 'Fri, 17 Apr 2020 01:33:30 GMT'},\n",
       "  'RetryAttempts': 0}}"
      ]
     },
     "execution_count": 34,
     "metadata": {},
     "output_type": "execute_result"
    }
   ],
   "source": [
    "# IAM policies should also be removed\n",
    "iam = boto3.client(\"iam\")\n",
    "iam.detach_role_policy(PolicyArn=\"arn:aws:iam::aws:policy/AmazonS3FullAccess\", RoleName=role_name)\n",
    "iam.detach_role_policy(PolicyArn=\"arn:aws:iam::aws:policy/AmazonForecastFullAccess\",RoleName=role_name)\n",
    "\n",
    "iam.delete_role(RoleName=role_name)"
   ]
  },
  {
   "cell_type": "code",
   "execution_count": null,
   "metadata": {},
   "outputs": [],
   "source": []
  }
 ],
 "metadata": {
  "kernelspec": {
   "display_name": "Python 3",
   "language": "python",
   "name": "python3"
  },
  "language_info": {
   "codemirror_mode": {
    "name": "ipython",
    "version": 3
   },
   "file_extension": ".py",
   "mimetype": "text/x-python",
   "name": "python",
   "nbconvert_exporter": "python",
   "pygments_lexer": "ipython3",
   "version": "3.7.6"
  }
 },
 "nbformat": 4,
 "nbformat_minor": 4
}
